{
  "nbformat": 4,
  "nbformat_minor": 0,
  "metadata": {
    "colab": {
      "name": "model",
      "version": "0.3.2",
      "provenance": [],
      "collapsed_sections": []
    },
    "kernelspec": {
      "name": "python3",
      "display_name": "Python 3"
    }
  },
  "cells": [
    {
      "metadata": {
        "id": "Mxb3sUe594ZT",
        "colab_type": "code",
        "outputId": "cf084fb1-19d6-4693-8fef-4d3600752ede",
        "colab": {
          "resources": {
            "http://localhost:8080/nbextensions/google.colab/files.js": {
              "data": "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",
              "ok": true,
              "headers": [
                [
                  "content-type",
                  "application/javascript"
                ]
              ],
              "status": 200,
              "status_text": ""
            }
          },
          "base_uri": "https://localhost:8080/",
          "height": 40
        }
      },
      "cell_type": "code",
      "source": [
        "from google.colab import files\n",
        "uploaded = files.upload()"
      ],
      "execution_count": 48,
      "outputs": [
        {
          "output_type": "display_data",
          "data": {
            "text/html": [
              "\n",
              "     <input type=\"file\" id=\"files-3f64c325-b17e-45c6-a123-0d84c5cfeb36\" name=\"files[]\" multiple disabled />\n",
              "     <output id=\"result-3f64c325-b17e-45c6-a123-0d84c5cfeb36\">\n",
              "      Upload widget is only available when the cell has been executed in the\n",
              "      current browser session. Please rerun this cell to enable.\n",
              "      </output>\n",
              "      <script src=\"/nbextensions/google.colab/files.js\"></script> "
            ],
            "text/plain": [
              "<IPython.core.display.HTML object>"
            ]
          },
          "metadata": {
            "tags": []
          }
        }
      ]
    },
    {
      "metadata": {
        "id": "5vcrwhJu_7hG",
        "colab_type": "code",
        "colab": {}
      },
      "cell_type": "code",
      "source": [
        "import pandas as pd"
      ],
      "execution_count": 0,
      "outputs": []
    },
    {
      "metadata": {
        "id": "-jentwUKMIF2",
        "colab_type": "code",
        "colab": {}
      },
      "cell_type": "code",
      "source": [
        "df= pd.read_csv('housepricedata (1).csv')"
      ],
      "execution_count": 0,
      "outputs": []
    },
    {
      "metadata": {
        "id": "AMx4UUS7MZi6",
        "colab_type": "code",
        "outputId": "daa26c04-35aa-4c97-a511-1e8f7613e60a",
        "colab": {
          "base_uri": "https://localhost:8080/",
          "height": 204
        }
      },
      "cell_type": "code",
      "source": [
        "df.head()"
      ],
      "execution_count": 51,
      "outputs": [
        {
          "output_type": "execute_result",
          "data": {
            "text/html": [
              "<div>\n",
              "<style scoped>\n",
              "    .dataframe tbody tr th:only-of-type {\n",
              "        vertical-align: middle;\n",
              "    }\n",
              "\n",
              "    .dataframe tbody tr th {\n",
              "        vertical-align: top;\n",
              "    }\n",
              "\n",
              "    .dataframe thead th {\n",
              "        text-align: right;\n",
              "    }\n",
              "</style>\n",
              "<table border=\"1\" class=\"dataframe\">\n",
              "  <thead>\n",
              "    <tr style=\"text-align: right;\">\n",
              "      <th></th>\n",
              "      <th>LotArea</th>\n",
              "      <th>OverallQual</th>\n",
              "      <th>OverallCond</th>\n",
              "      <th>TotalBsmtSF</th>\n",
              "      <th>FullBath</th>\n",
              "      <th>HalfBath</th>\n",
              "      <th>BedroomAbvGr</th>\n",
              "      <th>TotRmsAbvGrd</th>\n",
              "      <th>Fireplaces</th>\n",
              "      <th>GarageArea</th>\n",
              "      <th>AboveMedianPrice</th>\n",
              "    </tr>\n",
              "  </thead>\n",
              "  <tbody>\n",
              "    <tr>\n",
              "      <th>0</th>\n",
              "      <td>8450</td>\n",
              "      <td>7</td>\n",
              "      <td>5</td>\n",
              "      <td>856</td>\n",
              "      <td>2</td>\n",
              "      <td>1</td>\n",
              "      <td>3</td>\n",
              "      <td>8</td>\n",
              "      <td>0</td>\n",
              "      <td>548</td>\n",
              "      <td>1</td>\n",
              "    </tr>\n",
              "    <tr>\n",
              "      <th>1</th>\n",
              "      <td>9600</td>\n",
              "      <td>6</td>\n",
              "      <td>8</td>\n",
              "      <td>1262</td>\n",
              "      <td>2</td>\n",
              "      <td>0</td>\n",
              "      <td>3</td>\n",
              "      <td>6</td>\n",
              "      <td>1</td>\n",
              "      <td>460</td>\n",
              "      <td>1</td>\n",
              "    </tr>\n",
              "    <tr>\n",
              "      <th>2</th>\n",
              "      <td>11250</td>\n",
              "      <td>7</td>\n",
              "      <td>5</td>\n",
              "      <td>920</td>\n",
              "      <td>2</td>\n",
              "      <td>1</td>\n",
              "      <td>3</td>\n",
              "      <td>6</td>\n",
              "      <td>1</td>\n",
              "      <td>608</td>\n",
              "      <td>1</td>\n",
              "    </tr>\n",
              "    <tr>\n",
              "      <th>3</th>\n",
              "      <td>9550</td>\n",
              "      <td>7</td>\n",
              "      <td>5</td>\n",
              "      <td>756</td>\n",
              "      <td>1</td>\n",
              "      <td>0</td>\n",
              "      <td>3</td>\n",
              "      <td>7</td>\n",
              "      <td>1</td>\n",
              "      <td>642</td>\n",
              "      <td>0</td>\n",
              "    </tr>\n",
              "    <tr>\n",
              "      <th>4</th>\n",
              "      <td>14260</td>\n",
              "      <td>8</td>\n",
              "      <td>5</td>\n",
              "      <td>1145</td>\n",
              "      <td>2</td>\n",
              "      <td>1</td>\n",
              "      <td>4</td>\n",
              "      <td>9</td>\n",
              "      <td>1</td>\n",
              "      <td>836</td>\n",
              "      <td>1</td>\n",
              "    </tr>\n",
              "  </tbody>\n",
              "</table>\n",
              "</div>"
            ],
            "text/plain": [
              "   LotArea  OverallQual  OverallCond  TotalBsmtSF  FullBath  HalfBath  \\\n",
              "0     8450            7            5          856         2         1   \n",
              "1     9600            6            8         1262         2         0   \n",
              "2    11250            7            5          920         2         1   \n",
              "3     9550            7            5          756         1         0   \n",
              "4    14260            8            5         1145         2         1   \n",
              "\n",
              "   BedroomAbvGr  TotRmsAbvGrd  Fireplaces  GarageArea  AboveMedianPrice  \n",
              "0             3             8           0         548                 1  \n",
              "1             3             6           1         460                 1  \n",
              "2             3             6           1         608                 1  \n",
              "3             3             7           1         642                 0  \n",
              "4             4             9           1         836                 1  "
            ]
          },
          "metadata": {
            "tags": []
          },
          "execution_count": 51
        }
      ]
    },
    {
      "metadata": {
        "id": "g4zbM7NoMeXK",
        "colab_type": "code",
        "colab": {}
      },
      "cell_type": "code",
      "source": [
        "import seaborn as sns\n",
        "import matplotlib.pyplot as plt\n",
        "import numpy as np"
      ],
      "execution_count": 0,
      "outputs": []
    },
    {
      "metadata": {
        "id": "qxiKXHxINIsK",
        "colab_type": "code",
        "outputId": "c1103098-6e35-44a5-9243-2ae338b1c922",
        "colab": {
          "base_uri": "https://localhost:8080/",
          "height": 221
        }
      },
      "cell_type": "code",
      "source": [
        "df.isnull().sum()"
      ],
      "execution_count": 53,
      "outputs": [
        {
          "output_type": "execute_result",
          "data": {
            "text/plain": [
              "LotArea             0\n",
              "OverallQual         0\n",
              "OverallCond         0\n",
              "TotalBsmtSF         0\n",
              "FullBath            0\n",
              "HalfBath            0\n",
              "BedroomAbvGr        0\n",
              "TotRmsAbvGrd        0\n",
              "Fireplaces          0\n",
              "GarageArea          0\n",
              "AboveMedianPrice    0\n",
              "dtype: int64"
            ]
          },
          "metadata": {
            "tags": []
          },
          "execution_count": 53
        }
      ]
    },
    {
      "metadata": {
        "id": "vyEWQXYkOyOn",
        "colab_type": "code",
        "outputId": "3323cf89-d7ea-455b-8888-1bf73bd7916f",
        "colab": {
          "base_uri": "https://localhost:8080/",
          "height": 221
        }
      },
      "cell_type": "code",
      "source": [
        "df.dtypes"
      ],
      "execution_count": 54,
      "outputs": [
        {
          "output_type": "execute_result",
          "data": {
            "text/plain": [
              "LotArea             int64\n",
              "OverallQual         int64\n",
              "OverallCond         int64\n",
              "TotalBsmtSF         int64\n",
              "FullBath            int64\n",
              "HalfBath            int64\n",
              "BedroomAbvGr        int64\n",
              "TotRmsAbvGrd        int64\n",
              "Fireplaces          int64\n",
              "GarageArea          int64\n",
              "AboveMedianPrice    int64\n",
              "dtype: object"
            ]
          },
          "metadata": {
            "tags": []
          },
          "execution_count": 54
        }
      ]
    },
    {
      "metadata": {
        "id": "rJWgwfPxSf4f",
        "colab_type": "code",
        "outputId": "c2510608-f734-4f62-bfeb-5c4a0da0d529",
        "colab": {
          "base_uri": "https://localhost:8080/",
          "height": 282
        }
      },
      "cell_type": "code",
      "source": [
        "df['AboveMedianPrice'].value_counts().plot.bar()\n",
        "mp=df['AboveMedianPrice'].value_counts()\n",
        "median_price= np.array([mp])\n",
        "hey=100*(np.divide(median_price[0],np.sum(median_price)))\n",
        "print(np.round(hey, decimals=2),\"%\")"
      ],
      "execution_count": 55,
      "outputs": [
        {
          "output_type": "stream",
          "text": [
            "[50.14 49.86] %\n"
          ],
          "name": "stdout"
        },
        {
          "output_type": "display_data",
          "data": {
            "image/png": "[encoded data removed]",
            "text/plain": [
              "<Figure size 432x288 with 1 Axes>"
            ]
          },
          "metadata": {
            "tags": []
          }
        }
      ]
    },
    {
      "metadata": {
        "id": "Siwleg1DTE70",
        "colab_type": "code",
        "outputId": "3c80aa20-3902-44eb-9486-6fe56098418b",
        "colab": {
          "base_uri": "https://localhost:8080/",
          "height": 300
        }
      },
      "cell_type": "code",
      "source": [
        "sns.distplot(df['LotArea'])"
      ],
      "execution_count": 56,
      "outputs": [
        {
          "output_type": "execute_result",
          "data": {
            "text/plain": [
              "<matplotlib.axes._subplots.AxesSubplot at 0x7f4425183438>"
            ]
          },
          "metadata": {
            "tags": []
          },
          "execution_count": 56
        },
        {
          "output_type": "display_data",
          "data": {
            "image/png": "[encoded data removed]",
            "text/plain": [
              "<Figure size 432x288 with 1 Axes>"
            ]
          },
          "metadata": {
            "tags": []
          }
        }
      ]
    },
    {
      "metadata": {
        "id": "u9i_5eToToPw",
        "colab_type": "code",
        "outputId": "a09509ca-0eb9-4226-ab56-49eb1cbf6951",
        "colab": {
          "base_uri": "https://localhost:8080/",
          "height": 713
        }
      },
      "cell_type": "code",
      "source": [
        "OverallQ= pd.crosstab(df['OverallQual'], df['AboveMedianPrice'])\n",
        "OverallQ.div(OverallQ.sum(1).astype(float) , axis=0).plot.bar(figsize=(10,5), stacked=True)\n",
        "OverallQ"
      ],
      "execution_count": 57,
      "outputs": [
        {
          "output_type": "execute_result",
          "data": {
            "text/html": [
              "<div>\n",
              "<style scoped>\n",
              "    .dataframe tbody tr th:only-of-type {\n",
              "        vertical-align: middle;\n",
              "    }\n",
              "\n",
              "    .dataframe tbody tr th {\n",
              "        vertical-align: top;\n",
              "    }\n",
              "\n",
              "    .dataframe thead th {\n",
              "        text-align: right;\n",
              "    }\n",
              "</style>\n",
              "<table border=\"1\" class=\"dataframe\">\n",
              "  <thead>\n",
              "    <tr style=\"text-align: right;\">\n",
              "      <th>AboveMedianPrice</th>\n",
              "      <th>0</th>\n",
              "      <th>1</th>\n",
              "    </tr>\n",
              "    <tr>\n",
              "      <th>OverallQual</th>\n",
              "      <th></th>\n",
              "      <th></th>\n",
              "    </tr>\n",
              "  </thead>\n",
              "  <tbody>\n",
              "    <tr>\n",
              "      <th>1</th>\n",
              "      <td>2</td>\n",
              "      <td>0</td>\n",
              "    </tr>\n",
              "    <tr>\n",
              "      <th>2</th>\n",
              "      <td>3</td>\n",
              "      <td>0</td>\n",
              "    </tr>\n",
              "    <tr>\n",
              "      <th>3</th>\n",
              "      <td>20</td>\n",
              "      <td>0</td>\n",
              "    </tr>\n",
              "    <tr>\n",
              "      <th>4</th>\n",
              "      <td>113</td>\n",
              "      <td>3</td>\n",
              "    </tr>\n",
              "    <tr>\n",
              "      <th>5</th>\n",
              "      <td>350</td>\n",
              "      <td>47</td>\n",
              "    </tr>\n",
              "    <tr>\n",
              "      <th>6</th>\n",
              "      <td>198</td>\n",
              "      <td>176</td>\n",
              "    </tr>\n",
              "    <tr>\n",
              "      <th>7</th>\n",
              "      <td>42</td>\n",
              "      <td>277</td>\n",
              "    </tr>\n",
              "    <tr>\n",
              "      <th>8</th>\n",
              "      <td>3</td>\n",
              "      <td>165</td>\n",
              "    </tr>\n",
              "    <tr>\n",
              "      <th>9</th>\n",
              "      <td>0</td>\n",
              "      <td>43</td>\n",
              "    </tr>\n",
              "    <tr>\n",
              "      <th>10</th>\n",
              "      <td>1</td>\n",
              "      <td>17</td>\n",
              "    </tr>\n",
              "  </tbody>\n",
              "</table>\n",
              "</div>"
            ],
            "text/plain": [
              "AboveMedianPrice    0    1\n",
              "OverallQual               \n",
              "1                   2    0\n",
              "2                   3    0\n",
              "3                  20    0\n",
              "4                 113    3\n",
              "5                 350   47\n",
              "6                 198  176\n",
              "7                  42  277\n",
              "8                   3  165\n",
              "9                   0   43\n",
              "10                  1   17"
            ]
          },
          "metadata": {
            "tags": []
          },
          "execution_count": 57
        },
        {
          "output_type": "display_data",
          "data": {
            "image/png": "[encoded data removed]",
            "text/plain": [
              "<Figure size 720x360 with 1 Axes>"
            ]
          },
          "metadata": {
            "tags": []
          }
        }
      ]
    },
    {
      "metadata": {
        "id": "JFhpmRe9UOGp",
        "colab_type": "code",
        "colab": {}
      },
      "cell_type": "code",
      "source": [
        "from sklearn.preprocessing import MinMaxScaler"
      ],
      "execution_count": 0,
      "outputs": []
    },
    {
      "metadata": {
        "id": "9uuk-MDFOm6x",
        "colab_type": "code",
        "colab": {}
      },
      "cell_type": "code",
      "source": [
        "x= df.drop('AboveMedianPrice', axis=1)\n",
        "y= df['AboveMedianPrice']"
      ],
      "execution_count": 0,
      "outputs": []
    },
    {
      "metadata": {
        "id": "ql9-W6jkUfQb",
        "colab_type": "code",
        "colab": {}
      },
      "cell_type": "code",
      "source": [
        "minmax= MinMaxScaler()"
      ],
      "execution_count": 0,
      "outputs": []
    },
    {
      "metadata": {
        "id": "DN6ecM_MU27z",
        "colab_type": "code",
        "outputId": "ca9f23c5-721a-4eac-e009-4f6576f5d24a",
        "colab": {
          "base_uri": "https://localhost:8080/",
          "height": 292
        }
      },
      "cell_type": "code",
      "source": [
        "x_scale= minmax.fit_transform(x)\n",
        "x_scale"
      ],
      "execution_count": 61,
      "outputs": [
        {
          "output_type": "stream",
          "text": [
            "/usr/local/lib/python3.6/dist-packages/sklearn/preprocessing/data.py:334: DataConversionWarning: Data with input dtype int64 were all converted to float64 by MinMaxScaler.\n",
            "  return self.partial_fit(X, y)\n"
          ],
          "name": "stderr"
        },
        {
          "output_type": "execute_result",
          "data": {
            "text/plain": [
              "array([[0.0334198 , 0.66666667, 0.5       , ..., 0.5       , 0.        ,\n",
              "        0.3864598 ],\n",
              "       [0.03879502, 0.55555556, 0.875     , ..., 0.33333333, 0.33333333,\n",
              "        0.32440056],\n",
              "       [0.04650728, 0.66666667, 0.5       , ..., 0.33333333, 0.33333333,\n",
              "        0.42877292],\n",
              "       ...,\n",
              "       [0.03618687, 0.66666667, 1.        , ..., 0.58333333, 0.66666667,\n",
              "        0.17771509],\n",
              "       [0.03934189, 0.44444444, 0.625     , ..., 0.25      , 0.        ,\n",
              "        0.16925247],\n",
              "       [0.04037019, 0.44444444, 0.625     , ..., 0.33333333, 0.        ,\n",
              "        0.19464034]])"
            ]
          },
          "metadata": {
            "tags": []
          },
          "execution_count": 61
        }
      ]
    },
    {
      "metadata": {
        "id": "jciVCMtFVAZU",
        "colab_type": "code",
        "colab": {}
      },
      "cell_type": "code",
      "source": [
        "from sklearn.model_selection import train_test_split"
      ],
      "execution_count": 0,
      "outputs": []
    },
    {
      "metadata": {
        "id": "15PLoWgxVqka",
        "colab_type": "code",
        "colab": {}
      },
      "cell_type": "code",
      "source": [
        "x_train, x_val_and_test, y_train, y_val_and_test=train_test_split(x_scale, y, test_size=0.3)"
      ],
      "execution_count": 0,
      "outputs": []
    },
    {
      "metadata": {
        "id": "NShndYxUcIDk",
        "colab_type": "code",
        "colab": {}
      },
      "cell_type": "code",
      "source": [
        "x_test, x_val, y_test, y_val= train_test_split(x_val_and_test, y_val_and_test, test_size=0.15)"
      ],
      "execution_count": 0,
      "outputs": []
    },
    {
      "metadata": {
        "id": "_eeuVD-MgRo-",
        "colab_type": "code",
        "colab": {}
      },
      "cell_type": "code",
      "source": [
        "from keras.models import Sequential\n",
        "from keras.layers import Dense"
      ],
      "execution_count": 0,
      "outputs": []
    },
    {
      "metadata": {
        "id": "uZkYbz7jgo0e",
        "colab_type": "code",
        "colab": {}
      },
      "cell_type": "code",
      "source": [
        "model= Sequential([\n",
        "    Dense(32, input_shape=(10,), activation='tanh'),\n",
        "    Dense(64, activation='tanh'),\n",
        "    Dense(1, activation='sigmoid')\n",
        "    \n",
        "])"
      ],
      "execution_count": 0,
      "outputs": []
    },
    {
      "metadata": {
        "id": "DCvFe6XBhG9v",
        "colab_type": "code",
        "colab": {}
      },
      "cell_type": "code",
      "source": [
        "model.compile(optimizer='sgd',\n",
        "              loss='binary_crossentropy',\n",
        "              metrics=['accuracy'])"
      ],
      "execution_count": 0,
      "outputs": []
    },
    {
      "metadata": {
        "id": "UKQx56m2kLUz",
        "colab_type": "code",
        "colab": {
          "base_uri": "https://localhost:8080/",
          "height": 3505
        },
        "outputId": "064d9930-2ee0-48ba-ac6b-8f745a48e83e"
      },
      "cell_type": "code",
      "source": [
        "batch_size=32\n",
        "epochs= 100\n",
        "work= model.fit(x_train, y_train, batch_size=batch_size , epochs=epochs, validation_data=(x_val, y_val))"
      ],
      "execution_count": 74,
      "outputs": [
        {
          "output_type": "stream",
          "text": [
            "WARNING:tensorflow:From /usr/local/lib/python3.6/dist-packages/tensorflow/python/ops/math_ops.py:3066: to_int32 (from tensorflow.python.ops.math_ops) is deprecated and will be removed in a future version.\n",
            "Instructions for updating:\n",
            "Use tf.cast instead.\n",
            "Train on 1022 samples, validate on 66 samples\n",
            "Epoch 1/100\n",
            "1022/1022 [==============================] - 1s 667us/step - loss: 0.7085 - acc: 0.5059 - val_loss: 0.7020 - val_acc: 0.5000\n",
            "Epoch 2/100\n",
            "1022/1022 [==============================] - 0s 39us/step - loss: 0.6934 - acc: 0.5098 - val_loss: 0.6887 - val_acc: 0.5152\n",
            "Epoch 3/100\n",
            "1022/1022 [==============================] - 0s 37us/step - loss: 0.6801 - acc: 0.5137 - val_loss: 0.6762 - val_acc: 0.5303\n",
            "Epoch 4/100\n",
            "1022/1022 [==============================] - 0s 37us/step - loss: 0.6673 - acc: 0.5479 - val_loss: 0.6644 - val_acc: 0.5758\n",
            "Epoch 5/100\n",
            "1022/1022 [==============================] - 0s 38us/step - loss: 0.6552 - acc: 0.6115 - val_loss: 0.6531 - val_acc: 0.5758\n",
            "Epoch 6/100\n",
            "1022/1022 [==============================] - 0s 38us/step - loss: 0.6433 - acc: 0.6624 - val_loss: 0.6419 - val_acc: 0.6970\n",
            "Epoch 7/100\n",
            "1022/1022 [==============================] - 0s 44us/step - loss: 0.6318 - acc: 0.7329 - val_loss: 0.6309 - val_acc: 0.7576\n",
            "Epoch 8/100\n",
            "1022/1022 [==============================] - 0s 37us/step - loss: 0.6202 - acc: 0.7573 - val_loss: 0.6197 - val_acc: 0.7727\n",
            "Epoch 9/100\n",
            "1022/1022 [==============================] - 0s 38us/step - loss: 0.6083 - acc: 0.8102 - val_loss: 0.6090 - val_acc: 0.7727\n",
            "Epoch 10/100\n",
            "1022/1022 [==============================] - 0s 38us/step - loss: 0.5969 - acc: 0.8043 - val_loss: 0.5979 - val_acc: 0.7727\n",
            "Epoch 11/100\n",
            "1022/1022 [==============================] - 0s 38us/step - loss: 0.5853 - acc: 0.8209 - val_loss: 0.5867 - val_acc: 0.8030\n",
            "Epoch 12/100\n",
            "1022/1022 [==============================] - 0s 39us/step - loss: 0.5736 - acc: 0.8268 - val_loss: 0.5756 - val_acc: 0.7879\n",
            "Epoch 13/100\n",
            "1022/1022 [==============================] - 0s 48us/step - loss: 0.5620 - acc: 0.8464 - val_loss: 0.5644 - val_acc: 0.7879\n",
            "Epoch 14/100\n",
            "1022/1022 [==============================] - 0s 37us/step - loss: 0.5503 - acc: 0.8493 - val_loss: 0.5532 - val_acc: 0.8030\n",
            "Epoch 15/100\n",
            "1022/1022 [==============================] - 0s 37us/step - loss: 0.5386 - acc: 0.8513 - val_loss: 0.5424 - val_acc: 0.8030\n",
            "Epoch 16/100\n",
            "1022/1022 [==============================] - 0s 37us/step - loss: 0.5267 - acc: 0.8581 - val_loss: 0.5317 - val_acc: 0.8030\n",
            "Epoch 17/100\n",
            "1022/1022 [==============================] - 0s 37us/step - loss: 0.5154 - acc: 0.8542 - val_loss: 0.5205 - val_acc: 0.8030\n",
            "Epoch 18/100\n",
            "1022/1022 [==============================] - 0s 38us/step - loss: 0.5039 - acc: 0.8571 - val_loss: 0.5101 - val_acc: 0.8030\n",
            "Epoch 19/100\n",
            "1022/1022 [==============================] - 0s 41us/step - loss: 0.4926 - acc: 0.8601 - val_loss: 0.4995 - val_acc: 0.8030\n",
            "Epoch 20/100\n",
            "1022/1022 [==============================] - 0s 40us/step - loss: 0.4817 - acc: 0.8601 - val_loss: 0.4896 - val_acc: 0.8030\n",
            "Epoch 21/100\n",
            "1022/1022 [==============================] - 0s 35us/step - loss: 0.4709 - acc: 0.8601 - val_loss: 0.4793 - val_acc: 0.8030\n",
            "Epoch 22/100\n",
            "1022/1022 [==============================] - 0s 37us/step - loss: 0.4609 - acc: 0.8640 - val_loss: 0.4692 - val_acc: 0.8182\n",
            "Epoch 23/100\n",
            "1022/1022 [==============================] - 0s 38us/step - loss: 0.4508 - acc: 0.8650 - val_loss: 0.4597 - val_acc: 0.8182\n",
            "Epoch 24/100\n",
            "1022/1022 [==============================] - 0s 38us/step - loss: 0.4416 - acc: 0.8611 - val_loss: 0.4517 - val_acc: 0.8030\n",
            "Epoch 25/100\n",
            "1022/1022 [==============================] - 0s 38us/step - loss: 0.4325 - acc: 0.8630 - val_loss: 0.4439 - val_acc: 0.8030\n",
            "Epoch 26/100\n",
            "1022/1022 [==============================] - 0s 39us/step - loss: 0.4241 - acc: 0.8659 - val_loss: 0.4351 - val_acc: 0.8182\n",
            "Epoch 27/100\n",
            "1022/1022 [==============================] - 0s 38us/step - loss: 0.4158 - acc: 0.8728 - val_loss: 0.4270 - val_acc: 0.8182\n",
            "Epoch 28/100\n",
            "1022/1022 [==============================] - 0s 38us/step - loss: 0.4085 - acc: 0.8669 - val_loss: 0.4200 - val_acc: 0.8182\n",
            "Epoch 29/100\n",
            "1022/1022 [==============================] - 0s 37us/step - loss: 0.4008 - acc: 0.8659 - val_loss: 0.4125 - val_acc: 0.8333\n",
            "Epoch 30/100\n",
            "1022/1022 [==============================] - 0s 38us/step - loss: 0.3943 - acc: 0.8669 - val_loss: 0.4064 - val_acc: 0.8333\n",
            "Epoch 31/100\n",
            "1022/1022 [==============================] - 0s 39us/step - loss: 0.3877 - acc: 0.8708 - val_loss: 0.4000 - val_acc: 0.8333\n",
            "Epoch 32/100\n",
            "1022/1022 [==============================] - 0s 38us/step - loss: 0.3818 - acc: 0.8679 - val_loss: 0.3950 - val_acc: 0.8333\n",
            "Epoch 33/100\n",
            "1022/1022 [==============================] - 0s 43us/step - loss: 0.3761 - acc: 0.8699 - val_loss: 0.3907 - val_acc: 0.8182\n",
            "Epoch 34/100\n",
            "1022/1022 [==============================] - 0s 39us/step - loss: 0.3710 - acc: 0.8748 - val_loss: 0.3842 - val_acc: 0.8485\n",
            "Epoch 35/100\n",
            "1022/1022 [==============================] - 0s 39us/step - loss: 0.3660 - acc: 0.8728 - val_loss: 0.3788 - val_acc: 0.8485\n",
            "Epoch 36/100\n",
            "1022/1022 [==============================] - 0s 41us/step - loss: 0.3618 - acc: 0.8728 - val_loss: 0.3738 - val_acc: 0.8485\n",
            "Epoch 37/100\n",
            "1022/1022 [==============================] - 0s 40us/step - loss: 0.3575 - acc: 0.8728 - val_loss: 0.3698 - val_acc: 0.8485\n",
            "Epoch 38/100\n",
            "1022/1022 [==============================] - 0s 42us/step - loss: 0.3532 - acc: 0.8718 - val_loss: 0.3641 - val_acc: 0.8485\n",
            "Epoch 39/100\n",
            "1022/1022 [==============================] - 0s 39us/step - loss: 0.3492 - acc: 0.8757 - val_loss: 0.3597 - val_acc: 0.8788\n",
            "Epoch 40/100\n",
            "1022/1022 [==============================] - 0s 39us/step - loss: 0.3462 - acc: 0.8718 - val_loss: 0.3585 - val_acc: 0.8485\n",
            "Epoch 41/100\n",
            "1022/1022 [==============================] - 0s 36us/step - loss: 0.3427 - acc: 0.8748 - val_loss: 0.3537 - val_acc: 0.8485\n",
            "Epoch 42/100\n",
            "1022/1022 [==============================] - 0s 37us/step - loss: 0.3398 - acc: 0.8718 - val_loss: 0.3508 - val_acc: 0.8485\n",
            "Epoch 43/100\n",
            "1022/1022 [==============================] - 0s 36us/step - loss: 0.3369 - acc: 0.8748 - val_loss: 0.3462 - val_acc: 0.8788\n",
            "Epoch 44/100\n",
            "1022/1022 [==============================] - 0s 37us/step - loss: 0.3337 - acc: 0.8777 - val_loss: 0.3433 - val_acc: 0.8788\n",
            "Epoch 45/100\n",
            "1022/1022 [==============================] - 0s 37us/step - loss: 0.3314 - acc: 0.8767 - val_loss: 0.3424 - val_acc: 0.8788\n",
            "Epoch 46/100\n",
            "1022/1022 [==============================] - 0s 41us/step - loss: 0.3289 - acc: 0.8777 - val_loss: 0.3377 - val_acc: 0.8788\n",
            "Epoch 47/100\n",
            "1022/1022 [==============================] - 0s 39us/step - loss: 0.3267 - acc: 0.8777 - val_loss: 0.3359 - val_acc: 0.8788\n",
            "Epoch 48/100\n",
            "1022/1022 [==============================] - 0s 38us/step - loss: 0.3242 - acc: 0.8777 - val_loss: 0.3362 - val_acc: 0.8788\n",
            "Epoch 49/100\n",
            "1022/1022 [==============================] - 0s 36us/step - loss: 0.3227 - acc: 0.8787 - val_loss: 0.3308 - val_acc: 0.8788\n",
            "Epoch 50/100\n",
            "1022/1022 [==============================] - 0s 37us/step - loss: 0.3206 - acc: 0.8806 - val_loss: 0.3296 - val_acc: 0.8788\n",
            "Epoch 51/100\n",
            "1022/1022 [==============================] - 0s 37us/step - loss: 0.3186 - acc: 0.8806 - val_loss: 0.3247 - val_acc: 0.9091\n",
            "Epoch 52/100\n",
            "1022/1022 [==============================] - 0s 37us/step - loss: 0.3168 - acc: 0.8767 - val_loss: 0.3229 - val_acc: 0.8939\n",
            "Epoch 53/100\n",
            "1022/1022 [==============================] - 0s 34us/step - loss: 0.3150 - acc: 0.8806 - val_loss: 0.3208 - val_acc: 0.9091\n",
            "Epoch 54/100\n",
            "1022/1022 [==============================] - 0s 42us/step - loss: 0.3134 - acc: 0.8777 - val_loss: 0.3227 - val_acc: 0.8788\n",
            "Epoch 55/100\n",
            "1022/1022 [==============================] - 0s 36us/step - loss: 0.3121 - acc: 0.8806 - val_loss: 0.3186 - val_acc: 0.8788\n",
            "Epoch 56/100\n",
            "1022/1022 [==============================] - 0s 36us/step - loss: 0.3111 - acc: 0.8796 - val_loss: 0.3168 - val_acc: 0.8939\n",
            "Epoch 57/100\n",
            "1022/1022 [==============================] - 0s 36us/step - loss: 0.3098 - acc: 0.8787 - val_loss: 0.3149 - val_acc: 0.9091\n",
            "Epoch 58/100\n",
            "1022/1022 [==============================] - 0s 39us/step - loss: 0.3081 - acc: 0.8777 - val_loss: 0.3129 - val_acc: 0.9091\n",
            "Epoch 59/100\n",
            "1022/1022 [==============================] - 0s 36us/step - loss: 0.3069 - acc: 0.8757 - val_loss: 0.3118 - val_acc: 0.9091\n",
            "Epoch 60/100\n",
            "1022/1022 [==============================] - 0s 40us/step - loss: 0.3053 - acc: 0.8796 - val_loss: 0.3128 - val_acc: 0.8788\n",
            "Epoch 61/100\n",
            "1022/1022 [==============================] - 0s 37us/step - loss: 0.3049 - acc: 0.8777 - val_loss: 0.3084 - val_acc: 0.9091\n",
            "Epoch 62/100\n",
            "1022/1022 [==============================] - 0s 36us/step - loss: 0.3031 - acc: 0.8748 - val_loss: 0.3078 - val_acc: 0.9091\n",
            "Epoch 63/100\n",
            "1022/1022 [==============================] - 0s 37us/step - loss: 0.3022 - acc: 0.8748 - val_loss: 0.3053 - val_acc: 0.9091\n",
            "Epoch 64/100\n",
            "1022/1022 [==============================] - 0s 40us/step - loss: 0.3017 - acc: 0.8757 - val_loss: 0.3055 - val_acc: 0.9091\n",
            "Epoch 65/100\n",
            "1022/1022 [==============================] - 0s 36us/step - loss: 0.2999 - acc: 0.8757 - val_loss: 0.3054 - val_acc: 0.9091\n",
            "Epoch 66/100\n",
            "1022/1022 [==============================] - 0s 38us/step - loss: 0.2989 - acc: 0.8787 - val_loss: 0.3073 - val_acc: 0.8939\n",
            "Epoch 67/100\n",
            "1022/1022 [==============================] - 0s 36us/step - loss: 0.2978 - acc: 0.8748 - val_loss: 0.3054 - val_acc: 0.8939\n",
            "Epoch 68/100\n",
            "1022/1022 [==============================] - 0s 35us/step - loss: 0.2973 - acc: 0.8748 - val_loss: 0.3005 - val_acc: 0.9091\n",
            "Epoch 69/100\n",
            "1022/1022 [==============================] - 0s 37us/step - loss: 0.2962 - acc: 0.8767 - val_loss: 0.2998 - val_acc: 0.9091\n",
            "Epoch 70/100\n",
            "1022/1022 [==============================] - 0s 36us/step - loss: 0.2952 - acc: 0.8757 - val_loss: 0.3012 - val_acc: 0.8939\n",
            "Epoch 71/100\n",
            "1022/1022 [==============================] - 0s 38us/step - loss: 0.2952 - acc: 0.8748 - val_loss: 0.2978 - val_acc: 0.9091\n",
            "Epoch 72/100\n",
            "1022/1022 [==============================] - 0s 36us/step - loss: 0.2936 - acc: 0.8826 - val_loss: 0.2960 - val_acc: 0.9091\n",
            "Epoch 73/100\n",
            "1022/1022 [==============================] - 0s 41us/step - loss: 0.2928 - acc: 0.8836 - val_loss: 0.2986 - val_acc: 0.8939\n",
            "Epoch 74/100\n",
            "1022/1022 [==============================] - 0s 38us/step - loss: 0.2913 - acc: 0.8767 - val_loss: 0.2951 - val_acc: 0.8939\n",
            "Epoch 75/100\n",
            "1022/1022 [==============================] - 0s 37us/step - loss: 0.2917 - acc: 0.8767 - val_loss: 0.2944 - val_acc: 0.8939\n",
            "Epoch 76/100\n",
            "1022/1022 [==============================] - 0s 38us/step - loss: 0.2908 - acc: 0.8787 - val_loss: 0.2947 - val_acc: 0.8939\n",
            "Epoch 77/100\n",
            "1022/1022 [==============================] - 0s 38us/step - loss: 0.2903 - acc: 0.8748 - val_loss: 0.2929 - val_acc: 0.8939\n",
            "Epoch 78/100\n",
            "1022/1022 [==============================] - 0s 35us/step - loss: 0.2890 - acc: 0.8806 - val_loss: 0.2915 - val_acc: 0.8939\n",
            "Epoch 79/100\n",
            "1022/1022 [==============================] - 0s 35us/step - loss: 0.2879 - acc: 0.8816 - val_loss: 0.2970 - val_acc: 0.9091\n",
            "Epoch 80/100\n",
            "1022/1022 [==============================] - 0s 36us/step - loss: 0.2877 - acc: 0.8806 - val_loss: 0.2903 - val_acc: 0.8939\n",
            "Epoch 81/100\n",
            "1022/1022 [==============================] - 0s 41us/step - loss: 0.2873 - acc: 0.8816 - val_loss: 0.2948 - val_acc: 0.9091\n",
            "Epoch 82/100\n",
            "1022/1022 [==============================] - 0s 37us/step - loss: 0.2871 - acc: 0.8787 - val_loss: 0.2912 - val_acc: 0.8939\n",
            "Epoch 83/100\n",
            "1022/1022 [==============================] - 0s 35us/step - loss: 0.2860 - acc: 0.8787 - val_loss: 0.2878 - val_acc: 0.8939\n",
            "Epoch 84/100\n",
            "1022/1022 [==============================] - 0s 39us/step - loss: 0.2852 - acc: 0.8796 - val_loss: 0.2909 - val_acc: 0.8939\n",
            "Epoch 85/100\n",
            "1022/1022 [==============================] - 0s 36us/step - loss: 0.2847 - acc: 0.8787 - val_loss: 0.2883 - val_acc: 0.8939\n",
            "Epoch 86/100\n",
            "1022/1022 [==============================] - 0s 36us/step - loss: 0.2842 - acc: 0.8787 - val_loss: 0.2882 - val_acc: 0.8939\n",
            "Epoch 87/100\n",
            "1022/1022 [==============================] - 0s 38us/step - loss: 0.2838 - acc: 0.8796 - val_loss: 0.2893 - val_acc: 0.8939\n",
            "Epoch 88/100\n",
            "1022/1022 [==============================] - 0s 42us/step - loss: 0.2832 - acc: 0.8767 - val_loss: 0.2885 - val_acc: 0.8939\n",
            "Epoch 89/100\n",
            "1022/1022 [==============================] - 0s 40us/step - loss: 0.2828 - acc: 0.8767 - val_loss: 0.2872 - val_acc: 0.8939\n",
            "Epoch 90/100\n",
            "1022/1022 [==============================] - 0s 37us/step - loss: 0.2816 - acc: 0.8826 - val_loss: 0.2846 - val_acc: 0.8939\n",
            "Epoch 91/100\n",
            "1022/1022 [==============================] - 0s 40us/step - loss: 0.2816 - acc: 0.8816 - val_loss: 0.2865 - val_acc: 0.8939\n",
            "Epoch 92/100\n",
            "1022/1022 [==============================] - 0s 37us/step - loss: 0.2816 - acc: 0.8796 - val_loss: 0.2860 - val_acc: 0.8939\n",
            "Epoch 93/100\n",
            "1022/1022 [==============================] - 0s 36us/step - loss: 0.2799 - acc: 0.8855 - val_loss: 0.2860 - val_acc: 0.8939\n",
            "Epoch 94/100\n",
            "1022/1022 [==============================] - 0s 43us/step - loss: 0.2808 - acc: 0.8806 - val_loss: 0.2859 - val_acc: 0.8939\n",
            "Epoch 95/100\n",
            "1022/1022 [==============================] - 0s 37us/step - loss: 0.2791 - acc: 0.8816 - val_loss: 0.2875 - val_acc: 0.9091\n",
            "Epoch 96/100\n",
            "1022/1022 [==============================] - 0s 35us/step - loss: 0.2789 - acc: 0.8806 - val_loss: 0.2883 - val_acc: 0.9091\n",
            "Epoch 97/100\n",
            "1022/1022 [==============================] - 0s 33us/step - loss: 0.2784 - acc: 0.8816 - val_loss: 0.2828 - val_acc: 0.8939\n",
            "Epoch 98/100\n",
            "1022/1022 [==============================] - 0s 39us/step - loss: 0.2777 - acc: 0.8855 - val_loss: 0.2858 - val_acc: 0.8939\n",
            "Epoch 99/100\n",
            "1022/1022 [==============================] - 0s 38us/step - loss: 0.2773 - acc: 0.8806 - val_loss: 0.2856 - val_acc: 0.8939\n",
            "Epoch 100/100\n",
            "1022/1022 [==============================] - 0s 39us/step - loss: 0.2771 - acc: 0.8816 - val_loss: 0.2841 - val_acc: 0.8939\n"
          ],
          "name": "stdout"
        }
      ]
    },
    {
      "metadata": {
        "id": "7EmVhZRJm_m4",
        "colab_type": "code",
        "colab": {
          "base_uri": "https://localhost:8080/",
          "height": 51
        },
        "outputId": "601de221-aaf7-4905-f272-ea6ae79a958c"
      },
      "cell_type": "code",
      "source": [
        "model.evaluate(x_test, y_test)[1]"
      ],
      "execution_count": 75,
      "outputs": [
        {
          "output_type": "stream",
          "text": [
            "372/372 [==============================] - 0s 60us/step\n"
          ],
          "name": "stdout"
        },
        {
          "output_type": "execute_result",
          "data": {
            "text/plain": [
              "0.8951612916044009"
            ]
          },
          "metadata": {
            "tags": []
          },
          "execution_count": 75
        }
      ]
    },
    {
      "metadata": {
        "id": "e93IcGyPpOPf",
        "colab_type": "code",
        "colab": {
          "base_uri": "https://localhost:8080/",
          "height": 187
        },
        "outputId": "fb9a5ed9-a873-4477-eae3-a29958ec0096"
      },
      "cell_type": "code",
      "source": [
        "model.predict(x_test[:10])"
      ],
      "execution_count": 80,
      "outputs": [
        {
          "output_type": "execute_result",
          "data": {
            "text/plain": [
              "array([[0.833642  ],\n",
              "       [0.9338608 ],\n",
              "       [0.9976938 ],\n",
              "       [0.2884437 ],\n",
              "       [0.03510734],\n",
              "       [0.8949847 ],\n",
              "       [0.08964902],\n",
              "       [0.741271  ],\n",
              "       [0.06583688],\n",
              "       [0.94365776]], dtype=float32)"
            ]
          },
          "metadata": {
            "tags": []
          },
          "execution_count": 80
        }
      ]
    },
    {
      "metadata": {
        "id": "R7Gn9jeVo-VM",
        "colab_type": "code",
        "colab": {
          "base_uri": "https://localhost:8080/",
          "height": 295
        },
        "outputId": "b7634a76-84f4-4cda-f013-8d7c437fd82a"
      },
      "cell_type": "code",
      "source": [
        "plt.plot(work.history['loss'])\n",
        "plt.plot(work.history['val_loss'])\n",
        "plt.title('Model loss')\n",
        "plt.ylabel('Loss')\n",
        "plt.xlabel('Epoch')\n",
        "plt.legend(['Train', 'Val'], loc='upper right')\n",
        "plt.show()"
      ],
      "execution_count": 82,
      "outputs": [
        {
          "output_type": "display_data",
          "data": {
            "image/png": "[encoded data removed]",
            "text/plain": [
              "<Figure size 432x288 with 1 Axes>"
            ]
          },
          "metadata": {
            "tags": []
          }
        }
      ]
    },
    {
      "metadata": {
        "id": "hFeX5WGXr6a7",
        "colab_type": "code",
        "colab": {
          "base_uri": "https://localhost:8080/",
          "height": 295
        },
        "outputId": "36c299ea-d5d7-4942-968f-e6cf8d200b8b"
      },
      "cell_type": "code",
      "source": [
        "plt.plot(work.history['acc'])\n",
        "plt.plot(work.history['val_acc'])\n",
        "plt.title('Model Accuracy')\n",
        "plt.ylabel('Accuracy')\n",
        "plt.xlabel('Epoch')\n",
        "plt.legend(['Train', 'Val'], loc='lower right')\n",
        "plt.show()"
      ],
      "execution_count": 83,
      "outputs": [
        {
          "output_type": "display_data",
          "data": {
            "image/png": "[encoded data removed]",
            "text/plain": [
              "<Figure size 432x288 with 1 Axes>"
            ]
          },
          "metadata": {
            "tags": []
          }
        }
      ]
    }
  ]
}